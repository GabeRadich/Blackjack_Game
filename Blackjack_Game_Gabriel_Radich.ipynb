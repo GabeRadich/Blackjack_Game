{
 "cells": [
  {
   "cell_type": "markdown",
   "metadata": {},
   "source": [
    "## This is a blackjack program:\n",
    "    \n",
    "    This is a blackjack program. In the beginning, you have $1000 to play the game. \n",
    "    \n",
    "    You and the dealer are given a deck of 52 shuffled cards. \n",
    "  \n",
    "    For each round, you need to bet some money, say x dollars. \n",
    "      - if you win, your total money = 1000 + x\n",
    "      - if you lose, your total money = 1000 - x\n",
    "      - if you tie with the program, your money has no change.\n",
    "    \n",
    "         \n",
    "    Game Rules:\n",
    "    (1) At first, you, the player, need to bet some money. \n",
    "    \n",
    "    (2 ) Draw two card from the top of the deck for the player. Then convert card face number to points:\n",
    "        - Ace:    11 points\n",
    "        - Jack:   10 points\n",
    "        - Queen:  10 points\n",
    "        - King:   10 points\n",
    "        - Others: points = card face number\n",
    "        \n",
    "    (3) Do the same for dealer in the same manner. \n",
    "    \n",
    "    (4) Display all physical cards and total points (yours and dealer)\n",
    "    \n",
    "    (5) Compare your total points with dealer's:  \n",
    "        - if yours is higher than the dealer's, you win\n",
    "        - if equal, tie\n",
    "        - if yours is lower, you lose  \n",
    "        \n",
    "    (5) Now you finish one round.\n",
    "    \n",
    "    The program will ask if the player plays again or not. Player can play until you want to quit or has no more money left or the deck is empty. Finally, the game is over. Print out the player's balance($ amount).\n",
    "\n",
    " "
   ]
  },
  {
   "cell_type": "code",
   "execution_count": 4,
   "metadata": {
    "ExecuteTime": {
     "end_time": "2023-10-03T15:21:57.862616Z",
     "start_time": "2023-10-03T15:21:57.857173Z"
    }
   },
   "outputs": [
    {
     "name": "stdout",
     "output_type": "stream",
     "text": [
      "['4_of_spades', '8_of_diamonds', '8_of_clubs', '4_of_hearts', '8_of_hearts', '7_of_clubs', 'jack_of_diamonds', '3_of_spades', '4_of_diamonds', 'jack_of_hearts', 'jack_of_spades', '3_of_hearts', 'ace_of_hearts', '2_of_diamonds', '6_of_diamonds', 'king_of_clubs', '2_of_spades', '6_of_hearts', 'king_of_hearts', '8_of_spades', '9_of_hearts', 'queen_of_diamonds', 'jack_of_clubs', 'king_of_diamonds', 'ace_of_spades', 'queen_of_spades', '10_of_clubs', 'queen_of_clubs', '6_of_clubs', '7_of_spades', 'ace_of_diamonds', '5_of_clubs', '5_of_hearts', '4_of_clubs', '3_of_clubs', 'queen_of_hearts', '7_of_diamonds', 'king_of_spades', '10_of_spades', '2_of_hearts', '9_of_diamonds', '10_of_hearts', '10_of_diamonds', 'ace_of_clubs', '6_of_spades', '5_of_diamonds', '3_of_diamonds', '9_of_clubs', '2_of_clubs', '7_of_hearts', '5_of_spades', '9_of_spades']\n"
     ]
    }
   ],
   "source": [
    "# a deck list of shuffled poker cards is given \n",
    "\n",
    "import random \n",
    "\n",
    "# (1)  deck: given list of 52 poker cards.\n",
    "values = [ \"ace\", \"2\", \"3\", \"4\", \"5\", \"6\", \"7\",\"8\", \"9\", \"10\", \"jack\", \"queen\", \"king\" ]\n",
    "suits  = [ \"clubs\", \"diamonds\", \"hearts\", \"spades\" ]\n",
    "deck = [ v +\"_of_\"+ s for s in suits for v in values  ] \n",
    "random.shuffle(deck) \n",
    "\n",
    "print(deck)"
   ]
  },
  {
   "cell_type": "code",
   "execution_count": 5,
   "metadata": {
    "ExecuteTime": {
     "end_time": "2022-10-03T19:02:48.000834Z",
     "start_time": "2022-10-03T19:02:47.985837Z"
    }
   },
   "outputs": [
    {
     "name": "stdout",
     "output_type": "stream",
     "text": [
      "You have $ 1000\n",
      "How much would you like to gamble?5\n",
      "Your hand:\n"
     ]
    },
    {
     "data": {
      "application/vnd.jupyter.widget-view+json": {
       "model_id": "77bb2c3da37a40348b649ee7a3213e3c",
       "version_major": 2,
       "version_minor": 0
      },
      "text/plain": [
       "HBox(children=(Image(value=b'\\x89PNG\\r\\n\\x1a\\n\\x00\\x00\\x00\\rIHDR\\x00\\x00\\x01\\xf4\\x00\\x00\\x02\\xd6\\x08\\x06\\x00\\x…"
      ]
     },
     "metadata": {},
     "output_type": "display_data"
    },
    {
     "name": "stdout",
     "output_type": "stream",
     "text": [
      "Dealer's hand:\n"
     ]
    },
    {
     "data": {
      "application/vnd.jupyter.widget-view+json": {
       "model_id": "8eb86bc56c9543cb9be764462ce525af",
       "version_major": 2,
       "version_minor": 0
      },
      "text/plain": [
       "HBox(children=(Image(value=b'\\x89PNG\\r\\n\\x1a\\n\\x00\\x00\\x00\\rIHDR\\x00\\x00\\x01\\xf4\\x00\\x00\\x02\\xd6\\x08\\x06\\x00\\x…"
      ]
     },
     "metadata": {},
     "output_type": "display_data"
    },
    {
     "name": "stdout",
     "output_type": "stream",
     "text": [
      "Your total points for this round: 12            \n",
      "Dealer's total points for this round: 18            \n",
      "The House beat you! You lose!\n",
      "\n",
      " Your balance: $ 995\n",
      "Press 'p' if you like to play another round. Otherwise, press any key to fold and see your earnings. h\n",
      "The game has ended. Congrats! You won $ 995 !\n"
     ]
    }
   ],
   "source": [
    "# Driver function code\n",
    "\n",
    "import random\n",
    "import _card_display as cd\n",
    "from IPython.display import Image, HTML, display\n",
    "import ipywidgets as widgets\n",
    "\n",
    "values = [ \"ace\", \"2\", \"3\", \"4\", \"5\", \"6\", \"7\",\"8\", \"9\", \"10\", \"jack\", \"queen\", \"king\" ]\n",
    "suits  = [ \"clubs\", \"diamonds\", \"hearts\", \"spades\" ]\n",
    "deck = [ v +\"_of_\"+ s for s in suits for v in values  ] \n",
    "card_names = [ ] \n",
    "\n",
    "random.shuffle(deck) \n",
    "\n",
    "# Player's draw\n",
    "player_points = []\n",
    "dealer_points = []\n",
    "\n",
    "Your_money = 1000\n",
    "\n",
    "def player_draw():\n",
    "    global Card_1\n",
    "    Card_1 = deck.pop(0) # draw a card\n",
    "    card_names.append(Card_1)\n",
    "\n",
    "    global plr1\n",
    "    plr1 = card_names.index(Card_1)\n",
    "\n",
    "    Card_2 = deck.pop(0) # draw a second card\n",
    "    card_names.append(Card_2)\n",
    "    \n",
    "    player_hand = [Card_1, Card_2]\n",
    "\n",
    "    for i in player_hand:\n",
    "        Card_Parts = i.split(\"_\")\n",
    "        \n",
    "        if Card_Parts[0] == \"ace\": \n",
    "            player_points.append(11)          \n",
    "\n",
    "        elif Card_Parts[0] == \"jack\" or Card_Parts[0] == \"king\" or Card_Parts[0] == \"queen\":\n",
    "            player_points.append(10)\n",
    "  \n",
    "        else:\n",
    "            player_points.append(int(Card_Parts[0]))            \n",
    "    \n",
    "    global player_points_total\n",
    "    player_points_total = sum(player_points)\n",
    "\n",
    "# Dealer's draw\n",
    "def dealer_draw():\n",
    "    global Card_3\n",
    "    Card_3 = deck.pop(0) # draw a card\n",
    "    \n",
    "    card_names.append(Card_3)\n",
    "    global dlr1\n",
    "    dlr1 = card_names.index(Card_3)\n",
    "    \n",
    "    Card_4 = deck.pop(0) # draw a second card\n",
    "    \n",
    "    card_names.append(Card_4)\n",
    "    \n",
    "    dealer_hand = [Card_3, Card_4]\n",
    "    \n",
    "    for i in dealer_hand:\n",
    "        Card_Parts = i.split(\"_\")\n",
    "        \n",
    "        if Card_Parts[0] == \"ace\": \n",
    "            dealer_points.append(11)            \n",
    "\n",
    "        elif Card_Parts[0] == \"jack\" or Card_Parts[0] == \"king\" or Card_Parts[0] == \"queen\":\n",
    "            dealer_points.append(10)            \n",
    "\n",
    "        else:\n",
    "            dealer_points.append(int(Card_Parts[0]))            \n",
    "    \n",
    "    global dealer_points_total\n",
    "    dealer_points_total = sum(dealer_points)\n",
    "    \n",
    "# This function draws cards for the house and the player simultaneously    \n",
    "def draw_cards():\n",
    "    player_draw()\n",
    "    dealer_draw()\n",
    "    total_points_display()\n",
    "\n",
    "# This function displays total points for the house and for the player.    \n",
    "def total_points_display():\n",
    "    global plr1\n",
    "    plr1 = card_names.index(Card_1)\n",
    "    \n",
    "    global dlr1\n",
    "    dlr1 = card_names.index(Card_3)\n",
    "    \n",
    "    print(\"Your hand:\")\n",
    "    cd.card_display(card_names[plr1:dlr1])\n",
    "    \n",
    "    print(\"Dealer's hand:\")\n",
    "    cd.card_display(card_names[dlr1:])\n",
    "    \n",
    "    \n",
    "    print(f\"Your total points for this round: {player_points_total:<14}\")\n",
    "    print(f\"Dealer's total points for this round: {dealer_points_total:<14}\")\n",
    "    \n",
    "#This function compares the point values for the house and the player, then determines which is higher \n",
    "# and allocates the pot to the winning player.\n",
    "\n",
    "def Points_Judge():\n",
    "        global Your_money\n",
    "        \n",
    "        draw_cards()\n",
    "\n",
    "        if player_points_total == dealer_points_total:\n",
    "            print(\"You tie with the House!\")\n",
    "        \n",
    "        elif player_points_total > dealer_points_total:\n",
    "            print(\"You beat the House! You win!\")\n",
    "            \n",
    "            Your_money += int(bet_)\n",
    "            \n",
    "            print(\"Your balance: $\", Your_money)\n",
    "            \n",
    "        elif player_points_total < dealer_points_total:\n",
    "            print(\"The House beat you! You lose!\")\n",
    "            \n",
    "            Your_money -= int(bet_)\n",
    "            \n",
    "            print(\"\\n Your balance: $\", Your_money)\n",
    "\n",
    "# This prompts the player to input how much money he/she would like to gamble\n",
    "def Bet():\n",
    "    print(\"You have $\",Your_money)\n",
    "    global bet_\n",
    "    bet_ = input(\"How much would you like to gamble?\")\n",
    "\n",
    "# This function resets the points (to 0 points) for the house and the player at the end of each round.\n",
    "def round_point_reset():\n",
    "    player_points.clear()\n",
    "    dealer_points.clear()\n",
    "\n",
    "# This function determines whether the player has enough money to continue playing\n",
    "def Finish():\n",
    "    if Your_money > 0:\n",
    "        print(\"The game has ended. Congrats! You won $\", Your_money,\"!\")   \n",
    "    \n",
    "    else:\n",
    "        print(\"Game is over. You're a loser. Have a good night.\")\n",
    "       \n",
    "# This function simulates the game of blackjack\n",
    "def Play_Black_Jack():\n",
    "    \n",
    "    Bet()\n",
    "    round_point_reset()\n",
    "    Points_Judge()\n",
    "    Keep_playing = input(\"Press 'p' if you like to play another round.\" \n",
    "                         \" Otherwise, press any key to fold and see your earnings. \")\n",
    "   \n",
    "    if Your_money == 0 or len(deck) == 0:\n",
    "        Finish()\n",
    "\n",
    "    elif Keep_playing == \"p\" or Keep_playing == \"P\":\n",
    "        Play_Black_Jack()\n",
    "    \n",
    "    else: \n",
    "        Finish()\n",
    "\n",
    "# This function allows the player to play as many rounds as he/she would like\n",
    "def Lets_play_blackjack():\n",
    "    global Your_money\n",
    "    Your_money = 1000\n",
    "    \n",
    "    Play_Black_Jack()\n",
    "\n",
    "Lets_play_blackjack()\n",
    "\n"
   ]
  },
  {
   "cell_type": "code",
   "execution_count": 12,
   "metadata": {
    "ExecuteTime": {
     "end_time": "2022-10-03T19:03:07.166901Z",
     "start_time": "2022-10-03T19:03:07.160903Z"
    }
   },
   "outputs": [],
   "source": [
    "# end"
   ]
  }
 ],
 "metadata": {
  "hide_input": false,
  "kernelspec": {
   "display_name": "Python 3 (ipykernel)",
   "language": "python",
   "name": "python3"
  },
  "language_info": {
   "codemirror_mode": {
    "name": "ipython",
    "version": 3
   },
   "file_extension": ".py",
   "mimetype": "text/x-python",
   "name": "python",
   "nbconvert_exporter": "python",
   "pygments_lexer": "ipython3",
   "version": "3.10.9"
  },
  "toc": {
   "base_numbering": 1,
   "nav_menu": {},
   "number_sections": true,
   "sideBar": true,
   "skip_h1_title": false,
   "title_cell": "Table of Contents",
   "title_sidebar": "Contents",
   "toc_cell": false,
   "toc_position": {},
   "toc_section_display": true,
   "toc_window_display": false
  },
  "varInspector": {
   "cols": {
    "lenName": 16,
    "lenType": 16,
    "lenVar": 40
   },
   "kernels_config": {
    "python": {
     "delete_cmd_postfix": "",
     "delete_cmd_prefix": "del ",
     "library": "var_list.py",
     "varRefreshCmd": "print(var_dic_list())"
    },
    "r": {
     "delete_cmd_postfix": ") ",
     "delete_cmd_prefix": "rm(",
     "library": "var_list.r",
     "varRefreshCmd": "cat(var_dic_list()) "
    }
   },
   "types_to_exclude": [
    "module",
    "function",
    "builtin_function_or_method",
    "instance",
    "_Feature"
   ],
   "window_display": false
  }
 },
 "nbformat": 4,
 "nbformat_minor": 2
}
